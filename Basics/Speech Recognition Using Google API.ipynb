{
 "cells": [
  {
   "cell_type": "code",
   "execution_count": null,
   "metadata": {},
   "outputs": [],
   "source": [
    "# We will use speech_recognition module for speech recognition.\n",
    "import speech_recognition as sr"
   ]
  },
  {
   "cell_type": "code",
   "execution_count": null,
   "metadata": {},
   "outputs": [],
   "source": [
    "# Creating Speech recognition instance\n",
    "recog = sr.Recognizer()"
   ]
  },
  {
   "cell_type": "code",
   "execution_count": null,
   "metadata": {},
   "outputs": [],
   "source": [
    "recog"
   ]
  },
  {
   "cell_type": "code",
   "execution_count": null,
   "metadata": {},
   "outputs": [],
   "source": [
    "# Using reocrded audio file.\n",
    "# Audio file should be in wav format.\n",
    "\n",
    "filename = input(\"Please provide the file with extension: \") # our file extension should by .wav\n",
    "with sr.AudioFile(filename) as source:\n",
    "    audiofile = recog.listen(source)\n",
    "    try:\n",
    "        text= recog.recognize_google(audiofile)\n",
    "        print(text)\n",
    "    except:\n",
    "        print('Check internet connectivity')"
   ]
  },
  {
   "cell_type": "code",
   "execution_count": null,
   "metadata": {
    "tags": []
   },
   "outputs": [],
   "source": [
    "# Using Microphone to grab audio and convert that to text.\n",
    "\n",
    "with sr.Microphone() as source:\n",
    "    audio = recog.listen(source)\n",
    "    try:\n",
    "        text  = recog.recognize_google(audio)\n",
    "        print(text)\n",
    "    except:\n",
    "        print('Internet connectivity issue')"
   ]
  }
 ],
 "metadata": {
  "kernelspec": {
   "display_name": "Python 3",
   "language": "python",
   "name": "python3"
  },
  "language_info": {
   "codemirror_mode": {
    "name": "ipython",
    "version": 3
   },
   "file_extension": ".py",
   "mimetype": "text/x-python",
   "name": "python",
   "nbconvert_exporter": "python",
   "pygments_lexer": "ipython3",
   "version": "3.7.6-final"
  }
 },
 "nbformat": 4,
 "nbformat_minor": 4
}