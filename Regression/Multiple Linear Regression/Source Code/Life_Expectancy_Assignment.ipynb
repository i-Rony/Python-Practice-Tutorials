{
 "cells": [
  {
   "cell_type": "code",
   "execution_count": null,
   "metadata": {
    "collapsed": true
   },
   "outputs": [],
   "source": [
    "# Required Libraries\n",
    "import pandas as pd\n",
    "import numpy as np\n",
    "import matplotlib.pyplot as plt"
   ]
  },
  {
   "cell_type": "code",
   "execution_count": null,
   "metadata": {
    "collapsed": true
   },
   "outputs": [],
   "source": [
    "# Handling Data\n",
    "\n",
    "# Importing Data\n",
    "dataset = pd.read_excel()  # Path for dataset\n",
    "dataset1 = dataset.dropna()\n",
    "indepX = dataset1.iloc[:,:-1]\n",
    "depY = dataset1.iloc[:,20]\n",
    "\n",
    "# Encoding Categorical Variable (Country --> \"Afghanistan\", \"Albania\", \"Algeria\")\n",
    "from sklearn.preprocessing import LabelEncoder, OneHotEncoder\n",
    "X_encoder = LabelEncoder()\n",
    "indepX.loc[:,\"Country\"] = X_encoder.fit_transform(indepX.loc[:,\"Country\"])\n",
    "onehotencoder = OneHotEncoder(categorical_features = [0])\n",
    "indepX = onehotencoder.fit_transform(indepX).toarray()\n",
    "\n",
    "# Splitting Data\n",
    "from sklearn.model_selection import train_test_split\n",
    "indepX_train, indepX_test, depY_train, depY_test = train_test_split(indepX,depY, test_size = 0.2, \n",
    "                                                                                random_state = 0)"
   ]
  },
  {
   "cell_type": "code",
   "execution_count": null,
   "metadata": {},
   "outputs": [],
   "source": [
    "# Generating Model\n",
    "from sklearn.linear_model import LinearRegression\n",
    "MLR = LinearRegression()\n",
    "MLR.fit(indepX_train, depY_train)"
   ]
  },
  {
   "cell_type": "code",
   "execution_count": null,
   "metadata": {},
   "outputs": [],
   "source": [
    "# Predicting Model Results\n",
    "depY_pred = MLR.predict(indepX_test)\n",
    "print(depY_pred)\n",
    "print(depY_test)"
   ]
  }
 ],
 "metadata": {
  "kernelspec": {
   "display_name": "Python 3",
   "language": "python",
   "name": "python3"
  },
  "language_info": {
   "codemirror_mode": {
    "name": "ipython",
    "version": 3
   },
   "file_extension": ".py",
   "mimetype": "text/x-python",
   "name": "python",
   "nbconvert_exporter": "python",
   "pygments_lexer": "ipython3",
   "version": "3.6.3"
  }
 },
 "nbformat": 4,
 "nbformat_minor": 2
}
