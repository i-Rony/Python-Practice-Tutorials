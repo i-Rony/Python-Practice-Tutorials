{
 "cells": [
  {
   "cell_type": "code",
   "execution_count": 1,
   "metadata": {},
   "outputs": [],
   "source": [
    "import numpy as np\n",
    "import cv2"
   ]
  },
  {
   "cell_type": "code",
   "execution_count": 2,
   "metadata": {},
   "outputs": [],
   "source": [
    "#define a canvas of size 300x300 px, with 3 channels (R,G,B) and data type as 8 bit unsigned integer\n",
    "\n",
    "canvas = np.zeros((300,300,3), dtype =\"uint8\")"
   ]
  },
  {
   "cell_type": "code",
   "execution_count": 3,
   "metadata": {},
   "outputs": [
    {
     "output_type": "execute_result",
     "data": {
      "text/plain": "-1"
     },
     "metadata": {},
     "execution_count": 3
    }
   ],
   "source": [
    "#define color\n",
    "#draw the line\n",
    "#arguments are canvas/image, starting point, ending point, color, thickness(optional)\n",
    "#display in cv2 window\n",
    "\n",
    "green = (0,255,0)\n",
    "cv2.line(canvas,(0,0),(300,300),green)\n",
    "cv2.imshow(\"The line 1\", canvas)\n",
    "cv2.waitKey(0)"
   ]
  },
  {
   "cell_type": "code",
   "execution_count": 4,
   "metadata": {},
   "outputs": [
    {
     "output_type": "execute_result",
     "data": {
      "text/plain": "-1"
     },
     "metadata": {},
     "execution_count": 4
    }
   ],
   "source": [
    "# draw line with width\n",
    "\n",
    "red = (0,0,255)\n",
    "cv2.line(canvas,(0,0),(300,300),red, 3)\n",
    "cv2.imshow(\"The line 2\", canvas)\n",
    "cv2.waitKey(0)"
   ]
  },
  {
   "cell_type": "code",
   "execution_count": 5,
   "metadata": {},
   "outputs": [
    {
     "output_type": "execute_result",
     "data": {
      "text/plain": "-1"
     },
     "metadata": {},
     "execution_count": 5
    }
   ],
   "source": [
    "#draw rectangles\n",
    "\n",
    "green = (0,255,0)\n",
    "cv2.rectangle(canvas,(10,10),(60,60),green)\n",
    "cv2.imshow(\"The rectangle 1\", canvas)\n",
    "cv2.waitKey(0)"
   ]
  },
  {
   "cell_type": "code",
   "execution_count": 6,
   "metadata": {},
   "outputs": [
    {
     "output_type": "execute_result",
     "data": {
      "text/plain": "-1"
     },
     "metadata": {},
     "execution_count": 6
    }
   ],
   "source": [
    "# draw rectangles with thickness\n",
    "\n",
    "red = (0,0,255)\n",
    "cv2.rectangle(canvas,(10,10),(60,60),red, 3)\n",
    "cv2.imshow(\"The rectangle 2\", canvas)\n",
    "cv2.waitKey(0)"
   ]
  },
  {
   "cell_type": "code",
   "execution_count": 7,
   "metadata": {},
   "outputs": [
    {
     "output_type": "execute_result",
     "data": {
      "text/plain": "-1"
     },
     "metadata": {},
     "execution_count": 7
    }
   ],
   "source": [
    "# draw rectangles with fill\n",
    "\n",
    "blue = (255,0,0)\n",
    "cv2.rectangle(canvas,(10,10),(60,60),blue, -1)\n",
    "cv2.imshow(\"The rectangle 3\", canvas)\n",
    "cv2.waitKey(0)"
   ]
  }
 ],
 "metadata": {
  "language_info": {
   "codemirror_mode": {
    "name": "ipython",
    "version": 3
   },
   "file_extension": ".py",
   "mimetype": "text/x-python",
   "name": "python",
   "nbconvert_exporter": "python",
   "pygments_lexer": "ipython3",
   "version": "3.7.6-final"
  },
  "orig_nbformat": 2,
  "kernelspec": {
   "name": "python3",
   "display_name": "Python 3"
  }
 },
 "nbformat": 4,
 "nbformat_minor": 2
}