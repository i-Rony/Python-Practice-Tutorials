{
 "cells": [
  {
   "cell_type": "code",
   "execution_count": 2,
   "metadata": {},
   "outputs": [],
   "source": [
    "from PIL import Image\n",
    "import face_recognition\n",
    "import numpy as np\n",
    "import cv2"
   ]
  },
  {
   "cell_type": "code",
   "execution_count": 4,
   "metadata": {},
   "outputs": [],
   "source": [
    "# loading and converting the image into numpy array\n",
    "\n",
    "image = cv2.imread('C:/Users/Ron/Projects/openCV/presidents.jpg')"
   ]
  },
  {
   "cell_type": "code",
   "execution_count": 6,
   "metadata": {},
   "outputs": [],
   "source": [
    "# Find all the faces in the image using the library\n",
    "\n",
    "face_locations = face_recognition.face_locations(image)"
   ]
  },
  {
   "cell_type": "code",
   "execution_count": 8,
   "metadata": {
    "tags": []
   },
   "outputs": [
    {
     "output_type": "stream",
     "name": "stdout",
     "text": "I found 4 face(s) in this photograph\n"
    }
   ],
   "source": [
    "# printing the number of items in the array\n",
    "\n",
    "print(\"I found {} face(s) in this photograph\".format(len(face_locations)))"
   ]
  },
  {
   "cell_type": "code",
   "execution_count": 10,
   "metadata": {
    "tags": []
   },
   "outputs": [
    {
     "output_type": "stream",
     "name": "stdout",
     "text": "A face is located at pixel location Top: 129, Left: 280, Bottom: 191, Right: 342\nA face is located at pixel location Top: 108, Left: 142, Bottom: 170, Right: 204\nA face is located at pixel location Top: 113, Left: 660, Bottom: 188, Right: 735\nA face is located at pixel location Top: 122, Left: 467, Bottom: 184, Right: 529\n"
    }
   ],
   "source": [
    "for face_location in face_locations:\n",
    "\n",
    "\t#print location of each face in this image\n",
    "\ttop, right, bottom, left = face_location\n",
    "\tprint(\"A face is located at pixel location Top: {}, Left: {}, Bottom: {}, Right: {}\".format(top, left, bottom, right))\n",
    "\n",
    "\t#access and show each face in the image\n",
    "\tface_image = image[top:bottom, left:right]\n",
    "\tpil_image = Image.fromarray(face_image)\n",
    "\tpil_image.show()"
   ]
  }
 ],
 "metadata": {
  "language_info": {
   "codemirror_mode": {
    "name": "ipython",
    "version": 3
   },
   "file_extension": ".py",
   "mimetype": "text/x-python",
   "name": "python",
   "nbconvert_exporter": "python",
   "pygments_lexer": "ipython3",
   "version": "3.7.6-final"
  },
  "orig_nbformat": 2,
  "kernelspec": {
   "name": "python3",
   "display_name": "Python 3"
  }
 },
 "nbformat": 4,
 "nbformat_minor": 2
}