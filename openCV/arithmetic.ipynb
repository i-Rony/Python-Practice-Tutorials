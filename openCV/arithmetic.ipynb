{
 "cells": [
  {
   "cell_type": "code",
   "execution_count": 1,
   "metadata": {},
   "outputs": [],
   "source": [
    "import numpy as np\n",
    "import imutils\n",
    "import cv2"
   ]
  },
  {
   "cell_type": "code",
   "execution_count": 2,
   "metadata": {},
   "outputs": [
    {
     "output_type": "execute_result",
     "data": {
      "text/plain": "-1"
     },
     "metadata": {},
     "execution_count": 2
    }
   ],
   "source": [
    "# loading and converting the image into numpy array\n",
    "\n",
    "image = cv2.imread('C:/Users/Ron/Projects/openCV/cat.jpeg')\n",
    "cv2.imshow(\"Original\", image)\n",
    "cv2.waitKey(0)"
   ]
  },
  {
   "cell_type": "code",
   "execution_count": 3,
   "metadata": {
    "tags": []
   },
   "outputs": [
    {
     "output_type": "stream",
     "name": "stdout",
     "text": "max of 255 by cv2: [[255]]\nmin of 0 by cv2: [[0]]\nwrap of max by np: [44]\nwrap of min by np: [206]\n"
    }
   ],
   "source": [
    "print(\"max of 255 by cv2: {}\".format(cv2.add(np.uint8([200]), np.uint8([100]))))\n",
    "print(\"min of 0 by cv2: {}\".format(cv2.subtract(np.uint8([50]), np.uint8([100]))))\n",
    "\n",
    "print(\"wrap of max by np: {}\".format(np.uint8([200])+np.uint8([100])))\n",
    "print(\"wrap of min by np: {}\".format(np.uint8([50])-np.uint8([100])))"
   ]
  },
  {
   "cell_type": "code",
   "execution_count": 4,
   "metadata": {},
   "outputs": [
    {
     "output_type": "execute_result",
     "data": {
      "text/plain": "-1"
     },
     "metadata": {},
     "execution_count": 4
    }
   ],
   "source": [
    "#generating one array and multiplying it with 100\n",
    "#adding that array to the actual image numpy array\n",
    "\n",
    "M = np.ones(image.shape, dtype = \"uint8\") * 100\n",
    "added = cv2.add(image, M)\n",
    "cv2.imshow(\"Added image\", added)\n",
    "cv2.waitKey(0)"
   ]
  },
  {
   "cell_type": "code",
   "execution_count": 5,
   "metadata": {},
   "outputs": [
    {
     "output_type": "execute_result",
     "data": {
      "text/plain": "-1"
     },
     "metadata": {},
     "execution_count": 5
    }
   ],
   "source": [
    "#generating one array and multiplying it with 50\n",
    "#substracting that array to the actual image numpy array\n",
    "\n",
    "M = np.ones(image.shape, dtype = \"uint8\") * 50\n",
    "subtracted = cv2.subtract(image, M)\n",
    "cv2.imshow(\"Subtracted image\", subtracted)\n",
    "cv2.waitKey(0)"
   ]
  },
  {
   "cell_type": "code",
   "execution_count": null,
   "metadata": {},
   "outputs": [],
   "source": []
  }
 ],
 "metadata": {
  "language_info": {
   "codemirror_mode": {
    "name": "ipython",
    "version": 3
   },
   "file_extension": ".py",
   "mimetype": "text/x-python",
   "name": "python",
   "nbconvert_exporter": "python",
   "pygments_lexer": "ipython3",
   "version": "3.7.6-final"
  },
  "orig_nbformat": 2,
  "kernelspec": {
   "name": "python3",
   "display_name": "Python 3"
  }
 },
 "nbformat": 4,
 "nbformat_minor": 2
}