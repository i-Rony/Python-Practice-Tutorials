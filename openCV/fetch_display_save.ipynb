{
 "cells": [
  {
   "cell_type": "code",
   "execution_count": 1,
   "metadata": {},
   "outputs": [],
   "source": [
    "import cv2"
   ]
  },
  {
   "cell_type": "code",
   "execution_count": 3,
   "metadata": {
    "tags": []
   },
   "outputs": [
    {
     "output_type": "stream",
     "name": "stdout",
     "text": "width of the image in pixels is: 528\nheight of the image in pixels is: 350\nchannels present the image is: 3\n"
    }
   ],
   "source": [
    "# loading and converting the image into numpy array\n",
    "# printing the corresponding values\n",
    "image = cv2.imread('C:/Users/Ron/Projects/openCV/cat.jpeg')\n",
    "print(\"width of the image in pixels is: {}\".format(image.shape[1]))\n",
    "print(\"height of the image in pixels is: {}\".format(image.shape[0]))\n",
    "print(\"channels present the image is: {}\".format(image.shape[2]))\n"
   ]
  },
  {
   "cell_type": "code",
   "execution_count": 4,
   "metadata": {},
   "outputs": [
    {
     "output_type": "execute_result",
     "data": {
      "text/plain": "True"
     },
     "metadata": {},
     "execution_count": 4
    }
   ],
   "source": [
    "# load image into cv2 window\n",
    "# wait for key press\n",
    "# write image into another format\n",
    "cv2.imshow(\"Image Title\", image)\n",
    "cv2.waitKey(0)\n",
    "cv2.imwrite(\"newcat.jpg\", image)"
   ]
  }
 ],
 "metadata": {
  "language_info": {
   "codemirror_mode": {
    "name": "ipython",
    "version": 3
   },
   "file_extension": ".py",
   "mimetype": "text/x-python",
   "name": "python",
   "nbconvert_exporter": "python",
   "pygments_lexer": "ipython3",
   "version": "3.7.6-final"
  },
  "orig_nbformat": 2,
  "kernelspec": {
   "name": "python3",
   "display_name": "Python 3"
  }
 },
 "nbformat": 4,
 "nbformat_minor": 2
}