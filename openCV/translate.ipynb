{
 "cells": [
  {
   "cell_type": "code",
   "execution_count": 3,
   "metadata": {},
   "outputs": [],
   "source": [
    "import imutils\n",
    "import cv2"
   ]
  },
  {
   "cell_type": "code",
   "execution_count": 4,
   "metadata": {},
   "outputs": [],
   "source": [
    "# loading and converting the image into numpy array\n",
    "\n",
    "image = cv2.imread('C:/Users/Ron/Projects/openCV/cat.jpeg')"
   ]
  },
  {
   "cell_type": "code",
   "execution_count": 5,
   "metadata": {},
   "outputs": [
    {
     "output_type": "execute_result",
     "data": {
      "text/plain": "-1"
     },
     "metadata": {},
     "execution_count": 5
    }
   ],
   "source": [
    "#shift image down\n",
    "shifted = imutils.translate(image, 0, 100)\n",
    "cv2.imshow(\"Shifted down image\", shifted)\n",
    "cv2.waitKey(0)"
   ]
  },
  {
   "cell_type": "code",
   "execution_count": 6,
   "metadata": {},
   "outputs": [
    {
     "output_type": "execute_result",
     "data": {
      "text/plain": "-1"
     },
     "metadata": {},
     "execution_count": 6
    }
   ],
   "source": [
    "#shift image up\n",
    "shifted = imutils.translate(image, 0, -100)\n",
    "cv2.imshow(\"Shifted up image\", shifted)\n",
    "cv2.waitKey(0)"
   ]
  },
  {
   "cell_type": "code",
   "execution_count": 7,
   "metadata": {},
   "outputs": [
    {
     "output_type": "execute_result",
     "data": {
      "text/plain": "-1"
     },
     "metadata": {},
     "execution_count": 7
    }
   ],
   "source": [
    "#shift image left\n",
    "shifted = imutils.translate(image, -100, 0)\n",
    "cv2.imshow(\"Shifted left image\", shifted)\n",
    "cv2.waitKey(0)"
   ]
  },
  {
   "cell_type": "code",
   "execution_count": 8,
   "metadata": {},
   "outputs": [
    {
     "output_type": "execute_result",
     "data": {
      "text/plain": "-1"
     },
     "metadata": {},
     "execution_count": 8
    }
   ],
   "source": [
    "#shift image right\n",
    "shifted = imutils.translate(image, 100, 0)\n",
    "cv2.imshow(\"Shifted right image\", shifted)\n",
    "cv2.waitKey(0)"
   ]
  },
  {
   "cell_type": "code",
   "execution_count": 9,
   "metadata": {},
   "outputs": [
    {
     "output_type": "execute_result",
     "data": {
      "text/plain": "-1"
     },
     "metadata": {},
     "execution_count": 9
    }
   ],
   "source": [
    "#shift image right and down\n",
    "shifted = imutils.translate(image, 100, 50)\n",
    "cv2.imshow(\"Shifted right image\", shifted)\n",
    "cv2.waitKey(0)"
   ]
  }
 ],
 "metadata": {
  "language_info": {
   "codemirror_mode": {
    "name": "ipython",
    "version": 3
   },
   "file_extension": ".py",
   "mimetype": "text/x-python",
   "name": "python",
   "nbconvert_exporter": "python",
   "pygments_lexer": "ipython3",
   "version": "3.7.6-final"
  },
  "orig_nbformat": 2,
  "kernelspec": {
   "name": "python3",
   "display_name": "Python 3"
  }
 },
 "nbformat": 4,
 "nbformat_minor": 2
}