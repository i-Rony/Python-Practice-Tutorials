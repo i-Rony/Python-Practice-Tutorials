{
 "cells": [
  {
   "cell_type": "code",
   "execution_count": 1,
   "metadata": {},
   "outputs": [],
   "source": [
    "import numpy as np\n",
    "import cv2"
   ]
  },
  {
   "cell_type": "code",
   "execution_count": 2,
   "metadata": {},
   "outputs": [],
   "source": [
    "#define a canvas of size 300x300 px, with 3 channels (R,G,B) and data type as 8 bit unsigned integer\n",
    "\n",
    "canvas = np.zeros((300,300,3), dtype =\"uint8\")"
   ]
  },
  {
   "cell_type": "code",
   "execution_count": 3,
   "metadata": {},
   "outputs": [
    {
     "output_type": "execute_result",
     "data": {
      "text/plain": "-1"
     },
     "metadata": {},
     "execution_count": 3
    }
   ],
   "source": [
    "#define color\n",
    "#draw a circle\n",
    "#arguments are canvas/image, midpoint, radius, color, thickness(optional)\n",
    "#display in cv2 window\n",
    "\n",
    "green = (0,255,0)\n",
    "cv2.circle(canvas,(100,100), 10, green)\n",
    "cv2.imshow(\"Single circle\", canvas)\n",
    "cv2.waitKey(0)\n"
   ]
  },
  {
   "cell_type": "code",
   "execution_count": 4,
   "metadata": {},
   "outputs": [
    {
     "output_type": "execute_result",
     "data": {
      "text/plain": "-1"
     },
     "metadata": {},
     "execution_count": 4
    }
   ],
   "source": [
    "# draw concentric white circles\n",
    "# calculate the center point of canvas\n",
    "# generate circles using for loop\n",
    "# clearning the canvas\n",
    "\n",
    "canvas = np.zeros((300,300,3), dtype =\"uint8\")\n",
    "white = (255,255,255)\n",
    "(centerX, centerY) = (canvas.shape[1]//2, canvas.shape[0]//2)\n",
    "\n",
    "for r in range(0,175,25):\n",
    "    cv2.circle(canvas, (centerX,centerY), r, white)\n",
    "\n",
    "cv2.imshow(\"concentric circles\", canvas)\n",
    "cv2.waitKey(0)"
   ]
  },
  {
   "cell_type": "code",
   "execution_count": 5,
   "metadata": {},
   "outputs": [
    {
     "output_type": "execute_result",
     "data": {
      "text/plain": "-1"
     },
     "metadata": {},
     "execution_count": 5
    }
   ],
   "source": [
    "# generate random radius, center point, color\n",
    "# draw circles in for loop\n",
    "\n",
    "canvas = np.zeros((300,300,3), dtype =\"uint8\")\n",
    "for i in range(0, 25):\n",
    "    radius = np.random.randint(5, high = 200)\n",
    "    color = np.random.randint(0, high = 256, size = (3,)).tolist()\n",
    "    pt = np.random.randint(0, high = 300, size = (2,))\n",
    "    cv2.circle(canvas, tuple(pt), radius, color, -1)\n",
    "cv2.imshow(\"Canvas\", canvas)\n",
    "cv2.waitKey(0)"
   ]
  }
 ],
 "metadata": {
  "language_info": {
   "codemirror_mode": {
    "name": "ipython",
    "version": 3
   },
   "file_extension": ".py",
   "mimetype": "text/x-python",
   "name": "python",
   "nbconvert_exporter": "python",
   "pygments_lexer": "ipython3",
   "version": "3.7.6-final"
  },
  "orig_nbformat": 2,
  "kernelspec": {
   "name": "python3",
   "display_name": "Python 3"
  }
 },
 "nbformat": 4,
 "nbformat_minor": 2
}