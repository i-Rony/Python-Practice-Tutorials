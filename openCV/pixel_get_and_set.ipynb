{
 "cells": [
  {
   "cell_type": "code",
   "execution_count": 1,
   "metadata": {},
   "outputs": [],
   "source": [
    "import cv2"
   ]
  },
  {
   "cell_type": "code",
   "execution_count": 2,
   "metadata": {
    "tags": []
   },
   "outputs": [
    {
     "output_type": "stream",
     "name": "stdout",
     "text": "Pixel at (0,0) - Red: 11, Green: 15, Blue: 16\nPixel at (0,0) - Red: 255, Green: 0, Blue: 0\n"
    }
   ],
   "source": [
    "# loading and converting the image into numpy array\n",
    "# printing the corresponding values\n",
    "image = cv2.imread('C:/Users/Ron/Projects/openCV/cat.jpeg')\n",
    "\n",
    "# grab the 0,0 pixel of the image and print color values\n",
    "(b,g,r) = image[0,0]\n",
    "print(\"Pixel at (0,0) - Red: {}, Green: {}, Blue: {}\".format(r,g,b))\n",
    "\n",
    "# change the color of the pixel at 0,0 and print again\n",
    "image[0,0] = (0,0,255)\n",
    "(b,g,r) = image[0,0]\n",
    "print(\"Pixel at (0,0) - Red: {}, Green: {}, Blue: {}\".format(r,g,b))"
   ]
  },
  {
   "cell_type": "code",
   "execution_count": 3,
   "metadata": {},
   "outputs": [
    {
     "output_type": "execute_result",
     "data": {
      "text/plain": "-1"
     },
     "metadata": {},
     "execution_count": 3
    }
   ],
   "source": [
    "# grab the region and show in cv2 window\n",
    "corner = image[0:100, 0:100]\n",
    "cv2.imshow(\"Corner just sliced\", corner)\n",
    "cv2.waitKey(0)"
   ]
  },
  {
   "cell_type": "code",
   "execution_count": 4,
   "metadata": {},
   "outputs": [
    {
     "output_type": "execute_result",
     "data": {
      "text/plain": "32"
     },
     "metadata": {},
     "execution_count": 4
    }
   ],
   "source": [
    "# change color of the area of image\n",
    "image[0:100, 0:100] = (0,255,0)\n",
    "cv2.imshow(\"Color of area changed\", image)\n",
    "cv2.waitKey(0)"
   ]
  }
 ],
 "metadata": {
  "language_info": {
   "codemirror_mode": {
    "name": "ipython",
    "version": 3
   },
   "file_extension": ".py",
   "mimetype": "text/x-python",
   "name": "python",
   "nbconvert_exporter": "python",
   "pygments_lexer": "ipython3",
   "version": "3.7.6-final"
  },
  "orig_nbformat": 2,
  "kernelspec": {
   "name": "python3",
   "display_name": "Python 3"
  }
 },
 "nbformat": 4,
 "nbformat_minor": 2
}