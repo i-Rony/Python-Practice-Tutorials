{
 "cells": [
  {
   "cell_type": "code",
   "execution_count": 1,
   "metadata": {},
   "outputs": [],
   "source": [
    "import face_recognition\n",
    "from PIL import Image, ImageDraw"
   ]
  },
  {
   "cell_type": "code",
   "execution_count": 2,
   "metadata": {},
   "outputs": [],
   "source": [
    "# Load the jpg file into a numpy array\n",
    "image = face_recognition.load_image_file(\"obama.jpg\")"
   ]
  },
  {
   "cell_type": "code",
   "execution_count": 3,
   "metadata": {
    "tags": []
   },
   "outputs": [
    {
     "output_type": "stream",
     "name": "stdout",
     "text": "[{'chin': [(369, 220), (372, 254), (378, 289), (384, 322), (395, 353), (414, 382), (437, 407), (464, 424), (495, 428), (527, 420), (552, 399), (576, 372), (594, 344), (604, 314), (610, 282), (613, 250), (615, 219)], 'left_eyebrow': [(397, 209), (411, 191), (433, 183), (457, 184), (479, 190)], 'right_eyebrow': [(514, 189), (536, 182), (558, 182), (579, 190), (592, 206)], 'nose_bridge': [(496, 210), (497, 231), (497, 252), (497, 273)], 'nose_tip': [(465, 285), (480, 289), (496, 293), (511, 288), (526, 284)], 'left_eye': [(424, 217), (437, 210), (450, 210), (464, 217), (451, 218), (437, 219)], 'right_eye': [(528, 217), (542, 209), (555, 210), (568, 217), (555, 218), (541, 218)], 'top_lip': [(433, 323), (454, 314), (478, 312), (495, 314), (512, 311), (535, 312), (555, 319), (549, 321), (512, 318), (495, 321), (478, 319), (439, 324)], 'bottom_lip': [(555, 319), (536, 344), (513, 357), (495, 360), (477, 359), (453, 348), (433, 323), (439, 324), (478, 343), (495, 345), (513, 342), (549, 321)]}]\n"
    }
   ],
   "source": [
    "# Find all facial landmarks in all the faces in the image\n",
    "face_landmarks_list = face_recognition.face_landmarks(image)\n",
    "\n",
    "print(face_landmarks_list)"
   ]
  },
  {
   "cell_type": "code",
   "execution_count": 4,
   "metadata": {},
   "outputs": [],
   "source": [
    "for face_landmarks in face_landmarks_list:\n",
    "    pil_image = Image.fromarray(image)\n",
    "    d = ImageDraw.Draw(pil_image, 'RGBA')\n",
    "    # RGBA - create an image using alpha composite , to make it translucent\n",
    "\n",
    "    # eyebrows darker \n",
    "    d.polygon(face_landmarks['left_eyebrow'], fill=(68, 54, 39, 128))\n",
    "    d.polygon(face_landmarks['right_eyebrow'], fill=(68, 54, 39, 128))\n",
    "    d.line(face_landmarks['left_eyebrow'], fill=(68, 54, 39, 150), width=5)\n",
    "    d.line(face_landmarks['right_eyebrow'], fill=(68, 54, 39, 150), width=5)\n",
    "\n",
    "\n",
    "    # Add lipstick\n",
    "    d.polygon(face_landmarks['top_lip'], fill=(150, 0, 0, 128))\n",
    "    d.polygon(face_landmarks['bottom_lip'], fill=(150, 0, 0, 128))\n",
    "    d.line(face_landmarks['top_lip'], fill=(150, 0, 0, 64), width=8)\n",
    "    d.line(face_landmarks['bottom_lip'], fill=(150, 0, 0, 64), width=8)\n",
    "\n",
    "    # reddish eyes\n",
    "    d.polygon(face_landmarks['left_eye'], fill=(255, 0, 0, 30))\n",
    "    d.polygon(face_landmarks['right_eye'], fill=(255, 0, 0, 30))\n",
    "\n",
    "    # Apply some mascara to eyes\n",
    "    d.line(face_landmarks['left_eye'] + [face_landmarks['left_eye'][0]], fill=(0, 0, 0, 110), width=6)\n",
    "    d.line(face_landmarks['right_eye'] + [face_landmarks['right_eye'][0]], fill=(0, 0, 0, 110), width=6)\n",
    "\n",
    "    pil_image.show()\n",
    "\n",
    "    # You can also save a copy of the new image to disk if you want by uncommenting this line\n",
    "    pil_image.save(\"obama_makeup.jpg\")"
   ]
  }
 ],
 "metadata": {
  "language_info": {
   "codemirror_mode": {
    "name": "ipython",
    "version": 3
   },
   "file_extension": ".py",
   "mimetype": "text/x-python",
   "name": "python",
   "nbconvert_exporter": "python",
   "pygments_lexer": "ipython3",
   "version": "3.7.6-final"
  },
  "orig_nbformat": 2,
  "kernelspec": {
   "name": "python3",
   "display_name": "Python 3"
  }
 },
 "nbformat": 4,
 "nbformat_minor": 2
}