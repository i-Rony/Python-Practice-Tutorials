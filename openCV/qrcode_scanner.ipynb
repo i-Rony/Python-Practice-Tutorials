{
 "cells": [
  {
   "cell_type": "code",
   "execution_count": null,
   "metadata": {},
   "outputs": [],
   "source": [
    "import cv2\n",
    "from pyzbar.pyzbar import decode "
   ]
  },
  {
   "cell_type": "code",
   "execution_count": null,
   "metadata": {},
   "outputs": [],
   "source": [
    "capture = cv2.VideoCapture(0)\n",
    "\n",
    "received_data = None\n",
    "\n",
    "while True:\n",
    "    _, frame = capture.read()\n",
    "\n",
    "    decoded_data = decode(frame)\n",
    "    try:\n",
    "        if decoded_data[0][0] != received_data:\n",
    "            print(decoded_data[0][0])\n",
    "            received_data = decoded_data[0][0]\n",
    "    else:\n",
    "        pass\n",
    "\n",
    "cv2.imshow('QR Code Scanner', frame)\n",
    "key = cv2.waitKey(1)\n",
    "\n",
    "if key == ord('q')\n",
    "    break"
   ]
  }
 ],
 "metadata": {
  "language_info": {
   "codemirror_mode": {
    "name": "ipython",
    "version": 3
   },
   "file_extension": ".py",
   "mimetype": "text/x-python",
   "name": "python",
   "nbconvert_exporter": "python",
   "pygments_lexer": "ipython3",
   "version": "3.7.6-final"
  },
  "orig_nbformat": 2,
  "kernelspec": {
   "name": "python3",
   "display_name": "Python 3"
  }
 },
 "nbformat": 4,
 "nbformat_minor": 2
}