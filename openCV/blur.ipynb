{
 "cells": [
  {
   "cell_type": "code",
   "execution_count": 1,
   "metadata": {},
   "outputs": [],
   "source": [
    "import numpy as np\n",
    "import cv2"
   ]
  },
  {
   "cell_type": "code",
   "execution_count": 2,
   "metadata": {},
   "outputs": [],
   "source": [
    "# loading and converting the image into numpy array\n",
    "\n",
    "image = cv2.imread('C:/Users/Ron/Projects/openCV/cat.jpeg')"
   ]
  },
  {
   "cell_type": "code",
   "execution_count": 3,
   "metadata": {},
   "outputs": [
    {
     "output_type": "execute_result",
     "data": {
      "text/plain": "-1"
     },
     "metadata": {},
     "execution_count": 3
    }
   ],
   "source": [
    "#average blurring\n",
    "\n",
    "blurred = np.hstack([\n",
    "\tcv2.blur(image, (3,3)),\n",
    "\tcv2.blur(image, (5,5)),\n",
    "\tcv2.blur(image, (7,7))])\n",
    "\n",
    "cv2.imshow(\"averaged blur\", blurred)\n",
    "cv2.waitKey(0)"
   ]
  },
  {
   "cell_type": "code",
   "execution_count": 4,
   "metadata": {},
   "outputs": [
    {
     "output_type": "execute_result",
     "data": {
      "text/plain": "-1"
     },
     "metadata": {},
     "execution_count": 4
    }
   ],
   "source": [
    "#gaussian blurring\n",
    "\n",
    "blurred = np.hstack([\n",
    "\tcv2.GaussianBlur(image, (3,3), 0),\n",
    "\tcv2.GaussianBlur(image, (5,5), 0),\n",
    "\tcv2.GaussianBlur(image, (7,7), 0)])\n",
    "\n",
    "cv2.imshow(\"Gaussian blur\", blurred)\n",
    "cv2.waitKey(0)"
   ]
  },
  {
   "cell_type": "code",
   "execution_count": 5,
   "metadata": {},
   "outputs": [
    {
     "output_type": "execute_result",
     "data": {
      "text/plain": "-1"
     },
     "metadata": {},
     "execution_count": 5
    }
   ],
   "source": [
    "#median blurring\n",
    "\n",
    "blurred = np.hstack([\n",
    "\tcv2.medianBlur(image, 3),\n",
    "\tcv2.medianBlur(image, 5),\n",
    "\tcv2.medianBlur(image, 7)])\n",
    "\n",
    "cv2.imshow(\"Median blur\", blurred)\n",
    "cv2.waitKey(0)"
   ]
  },
  {
   "cell_type": "code",
   "execution_count": 6,
   "metadata": {},
   "outputs": [
    {
     "output_type": "execute_result",
     "data": {
      "text/plain": "-1"
     },
     "metadata": {},
     "execution_count": 6
    }
   ],
   "source": [
    "#bilateral blurring\n",
    "\n",
    "blurred = np.hstack([\n",
    "\tcv2.bilateralFilter(image, 3, 21, 21),\n",
    "\tcv2.bilateralFilter(image, 5, 31, 31),\n",
    "\tcv2.bilateralFilter(image, 7, 41, 41)])\n",
    "\n",
    "cv2.imshow(\"bilateral blur\", blurred)\n",
    "cv2.waitKey(0)"
   ]
  }
 ],
 "metadata": {
  "language_info": {
   "codemirror_mode": {
    "name": "ipython",
    "version": 3
   },
   "file_extension": ".py",
   "mimetype": "text/x-python",
   "name": "python",
   "nbconvert_exporter": "python",
   "pygments_lexer": "ipython3",
   "version": "3.7.6-final"
  },
  "orig_nbformat": 2,
  "kernelspec": {
   "name": "python3",
   "display_name": "Python 3"
  }
 },
 "nbformat": 4,
 "nbformat_minor": 2
}