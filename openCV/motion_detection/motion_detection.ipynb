{
 "cells": [
  {
   "cell_type": "code",
   "execution_count": 1,
   "metadata": {},
   "outputs": [],
   "source": [
    "# import the necessary packages\n",
    "from imutils.video import VideoStream\n",
    "import datetime\n",
    "import imutils\n",
    "import time\n",
    "import cv2"
   ]
  },
  {
   "cell_type": "code",
   "execution_count": 2,
   "metadata": {},
   "outputs": [],
   "source": [
    "vs = VideoStream(src=0).start()\n",
    "time.sleep(2.0)\n",
    "\n",
    "# initialize the first frame in the video stream\n",
    "firstFrame = None"
   ]
  },
  {
   "cell_type": "code",
   "execution_count": 3,
   "metadata": {},
   "outputs": [],
   "source": [
    "# loop over the frames of the video\n",
    "while True:\n",
    "\t# grab the current frame and initialize the movement/no_movement text\n",
    "\tframe = vs.read()\n",
    "\ttext = \"No Movement\"\n",
    "\n",
    "\t# if the frame could not be caught, then we have reached the end of the video\n",
    "\tif frame is None:\n",
    "\t\tbreak\n",
    "\n",
    "\t# resize the frame, convert it to grayscale, and blur it\n",
    "\tframe = imutils.resize(frame, width=500)\n",
    "\tgray = cv2.cvtColor(frame, cv2.COLOR_BGR2GRAY)\n",
    "\tgray = cv2.GaussianBlur(gray, (21, 21), 0)\n",
    "\n",
    "\t# if the first frame is None, initialize it\n",
    "\tif firstFrame is None:\n",
    "\t\tfirstFrame = gray\n",
    "\t\tcontinue\n",
    "\n",
    "\t# compute the absolute difference between the current frame and first frame\n",
    "\tframeDelta = cv2.absdiff(firstFrame, gray)\n",
    "\tthresh = cv2.threshold(frameDelta, 150, 255, cv2.THRESH_BINARY)[1]\n",
    "\n",
    "\t# dilate the thresholded image to fill in holes, then find contours on thresholded image\n",
    "\tthresh = cv2.dilate(thresh, None, iterations=2)\n",
    "\tcnts = cv2.findContours(thresh.copy(), cv2.RETR_EXTERNAL, cv2.CHAIN_APPROX_SIMPLE)\n",
    "\tcnts = imutils.grab_contours(cnts)\n",
    "\n",
    "\t# loop over the contours\n",
    "\tfor c in cnts:\n",
    "\t\t# compute the bounding box for the contour, draw it on the frame, and update the text\n",
    "\t\t(x, y, w, h) = cv2.boundingRect(c)\n",
    "\t\tcv2.rectangle(frame, (x, y), (x + w, y + h), (0, 255, 0), 2)\n",
    "\t\ttext = \"Movement Detected!\"\n",
    "\n",
    "\t# draw the text and timestamp on the frame\n",
    "\tcv2.putText(frame, \"Room Status: {}\".format(text), (10, 20), cv2.FONT_HERSHEY_SIMPLEX, 0.5, (0, 0, 255), 2)\n",
    "\tcv2.putText(frame, datetime.datetime.now().strftime(\"%A %d %B %Y %I:%M:%S%p\"), (10, frame.shape[0] - 10), cv2.FONT_HERSHEY_SIMPLEX, 0.35, (0, 0, 255), 1)\n",
    "\n",
    "\t# show the frame and record if the user presses a key\n",
    "\tcv2.imshow(\"Room Camera\", frame)\n",
    "\tcv2.imshow(\"Threshold View\", thresh)\n",
    "\tcv2.imshow(\"Frame Delta View\", frameDelta)\n",
    "\tkey = cv2.waitKey(1) & 0xFF\n",
    "\n",
    "\t# if the `q` key is pressed, break from the lop\n",
    "\tif key == ord(\"q\"):\n",
    "\t\tbreak"
   ]
  },
  {
   "cell_type": "code",
   "execution_count": 4,
   "metadata": {},
   "outputs": [],
   "source": [
    "# cleanup the camera and close any open windows\n",
    "vs.stop()\n",
    "cv2.destroyAllWindows()"
   ]
  }
 ],
 "metadata": {
  "language_info": {
   "codemirror_mode": {
    "name": "ipython",
    "version": 3
   },
   "file_extension": ".py",
   "mimetype": "text/x-python",
   "name": "python",
   "nbconvert_exporter": "python",
   "pygments_lexer": "ipython3",
   "version": "3.7.6-final"
  },
  "orig_nbformat": 2,
  "kernelspec": {
   "name": "python3",
   "display_name": "Python 3"
  }
 },
 "nbformat": 4,
 "nbformat_minor": 2
}