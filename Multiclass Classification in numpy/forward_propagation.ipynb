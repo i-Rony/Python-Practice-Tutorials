{
 "cells": [
  {
   "cell_type": "code",
   "execution_count": 1,
   "metadata": {},
   "outputs": [],
   "source": [
    "import numpy as np"
   ]
  },
  {
   "cell_type": "code",
   "execution_count": 2,
   "metadata": {},
   "outputs": [],
   "source": [
    "def sigmoid(z):\n",
    "    return 1 / (1 + np.exp(-z))"
   ]
  },
  {
   "cell_type": "code",
   "execution_count": 3,
   "metadata": {},
   "outputs": [],
   "source": [
    "def predict(Theta1, Theta2, X):\n",
    "    m = len(X)\n",
    "    num_labels = Theta2.shape[0]\n",
    "    # p = np.zeros((m, 1))\n",
    "    a1 = np.hstack((np.ones((m, 1)), X)).T\n",
    "    z2 = Theta1 @ a1\n",
    "    a2 = sigmoid(z2)\n",
    "    a2 = np.vstack((np.ones((1, m)), a2))\n",
    "    z3 = Theta2 @ a2\n",
    "    a3 = sigmoid(z3)\n",
    "    p = np.argmax(a3, axis=0).T + 1\n",
    "    return p"
   ]
  },
  {
   "cell_type": "code",
   "execution_count": 4,
   "metadata": {},
   "outputs": [],
   "source": [
    "# Set up the parameters you will use for this exercise\n",
    "hidden_layer_size = 25\n",
    "num_labels = 10"
   ]
  },
  {
   "cell_type": "code",
   "execution_count": 5,
   "metadata": {},
   "outputs": [],
   "source": [
    "# Loading training data\n",
    "X = np.loadtxt(\"ex3data.csv\", delimiter=',')\n",
    "y = X[:, -1]\n",
    "X = X[:, 0:-1]\n",
    "m = len(y)"
   ]
  },
  {
   "cell_type": "code",
   "execution_count": 6,
   "metadata": {},
   "outputs": [],
   "source": [
    "Theta1 = np.loadtxt(\"Theta1.csv\", delimiter=',')\n",
    "Theta2 = np.loadtxt(\"Theta2.csv\", delimiter=',')"
   ]
  },
  {
   "cell_type": "code",
   "execution_count": 7,
   "metadata": {
    "tags": []
   },
   "outputs": [
    {
     "output_type": "stream",
     "name": "stdout",
     "text": "Training Set Accuracy: 97.52\n"
    }
   ],
   "source": [
    "pred = predict(Theta1, Theta2, X)\n",
    "\n",
    "print(\"Training Set Accuracy: {}\".format(np.mean(pred == y) * 100))"
   ]
  },
  {
   "cell_type": "code",
   "execution_count": null,
   "metadata": {},
   "outputs": [],
   "source": []
  }
 ],
 "metadata": {
  "language_info": {
   "codemirror_mode": {
    "name": "ipython",
    "version": 3
   },
   "file_extension": ".py",
   "mimetype": "text/x-python",
   "name": "python",
   "nbconvert_exporter": "python",
   "pygments_lexer": "ipython3",
   "version": "3.7.6-final"
  },
  "orig_nbformat": 2,
  "kernelspec": {
   "name": "python3",
   "display_name": "Python 3"
  }
 },
 "nbformat": 4,
 "nbformat_minor": 2
}