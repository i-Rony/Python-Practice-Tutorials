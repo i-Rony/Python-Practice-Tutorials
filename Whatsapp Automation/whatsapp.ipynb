{
 "cells": [
  {
   "cell_type": "code",
   "execution_count": 1,
   "metadata": {},
   "outputs": [],
   "source": [
    "from selenium import webdriver\n",
    "from selenium.webdriver.support import expected_conditions as ec\n",
    "from selenium.webdriver.support.ui import WebDriverWait\n",
    "from selenium.webdriver.common.keys import Keys\n",
    "from selenium.webdriver.common.by import By\n",
    "import time\n",
    "from time import sleep"
   ]
  },
  {
   "cell_type": "code",
   "execution_count": null,
   "metadata": {},
   "outputs": [],
   "source": [
    "browser = webdriver.Chrome('C:/Users/Ron/chromedriver')\n",
    "browser.get('https://web.whatsapp.com/')\n",
    "wait = WebDriverWait(browser, 600)"
   ]
  },
  {
   "cell_type": "code",
   "execution_count": null,
   "metadata": {},
   "outputs": [],
   "source": [
    "name = input(\"Enter the target: \")\n",
    "target = '\"{name}\"'.format(name = name)\n",
    "string = input(\"Enter your message: \")\n",
    "message = '{msg}'.format(msg = string)"
   ]
  },
  {
   "cell_type": "code",
   "execution_count": null,
   "metadata": {},
   "outputs": [],
   "source": [
    "x_arg = '//span[contains(@title, ' + target + ')]'\n",
    "capture = wait.until(ec.presence_of_element_located((By.XPATH, x_arg)))\n",
    "capture.click()"
   ]
  },
  {
   "cell_type": "code",
   "execution_count": null,
   "metadata": {},
   "outputs": [],
   "source": [
    "input_box = browser.find_element_by_class_name('_3uMse') #classname differs, fill in the right classname before running tht code\n",
    "\n",
    "input_box.send_keys(message + Keys.ENTER)\n",
    "\n",
    "# if you wish to send several same messages try the code below:\n",
    "# for i in range(50):\n",
    "#     input_box.send_keys(message + Keys.ENTER)"
   ]
  },
  {
   "cell_type": "code",
   "execution_count": null,
   "metadata": {},
   "outputs": [],
   "source": [
    "file_path = input(\"Enter your image filepath: \")\n",
    "fp = file_path.replace('\\\\', '/')\n",
    "\n",
    "attachment = browser.find_element_by_xpath('//div[@title = \"Attach\"]')\n",
    "attachment.click()\n",
    "\n",
    "img_box = browser.find_element_by_xpath('//input[@accept=\"image/*,video/mp4,video/3gpp,video/quicktime\"]')\n",
    "img_box.send_keys(fp)\n",
    "\n",
    "sleep(3)\n",
    "\n",
    "send_button = browser.find_element_by_xpath('//span[@data-icon=\"send-light\"]')\n",
    "send_button.click()"
   ]
  }
 ],
 "metadata": {
  "language_info": {
   "codemirror_mode": {
    "name": "ipython",
    "version": 3
   },
   "file_extension": ".py",
   "mimetype": "text/x-python",
   "name": "python",
   "nbconvert_exporter": "python",
   "pygments_lexer": "ipython3",
   "version": "3.7.6-final"
  },
  "orig_nbformat": 2,
  "kernelspec": {
   "name": "python3",
   "display_name": "Python 3"
  }
 },
 "nbformat": 4,
 "nbformat_minor": 2
}