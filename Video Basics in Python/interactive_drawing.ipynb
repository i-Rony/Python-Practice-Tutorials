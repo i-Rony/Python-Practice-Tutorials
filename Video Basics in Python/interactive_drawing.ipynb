{
 "cells": [
  {
   "cell_type": "code",
   "execution_count": null,
   "metadata": {},
   "outputs": [],
   "source": [
    "import cv2\n",
    "\n",
    "def draw_rectangle(event, x, y, flags, param):\n",
    "\n",
    "    global pt1, pt2, top_left_clicked, bottom_right_clicked\n",
    "\n",
    "    if event == cv2.EVENT_LBUTTONDOWN:\n",
    "        if top_left_clicked == True and bottom_right_clicked == True:\n",
    "            pt1 = (0,0)\n",
    "            pt2 = (0,0)\n",
    "            top_left_clicked = False\n",
    "            bottom_right_clicked = False\n",
    "        \n",
    "        if top_left_clicked == False:\n",
    "            pt1 = (x, y)\n",
    "            top_left_clicked = True\n",
    "        \n",
    "        elif bottom_right_clicked == False:\n",
    "            pt2= (x, y)\n",
    "            bottom_right_clicked = True\n",
    "\n",
    "pt1 = (0, 0)\n",
    "pt2 = (0, 0)\n",
    "top_left_clicked = False\n",
    "bottom_right_clicked = False\n",
    "\n",
    "cap = cv2.VideoCapture(0)\n",
    "\n",
    "cv2.namedWindow('test')\n",
    "\n",
    "cv2.setMouseCallback('test', draw_rectangle)\n",
    "\n",
    "while True:\n",
    "    ret, frame = cap.read()\n",
    "\n",
    "    if top_left_clicked == True:\n",
    "        cv2.circle(frame, center=pt1, radius=5, color=(255,0,255), thickness=-1)\n",
    "\n",
    "    if top_left_clicked == True and bottom_right_clicked == True:\n",
    "        cv2.rectangle(frame, pt1, pt2, (0,0,255), 3)\n",
    "\n",
    "    cv2.imshow('test', frame)\n",
    "\n",
    "    if cv2.waitKey(3) & 0xFF == 27:\n",
    "        break\n",
    "\n",
    "cap.release()\n",
    "cv2.destroyAllWindows()\n",
    "        "
   ]
  }
 ],
 "metadata": {
  "language_info": {
   "codemirror_mode": {
    "name": "ipython",
    "version": 3
   },
   "file_extension": ".py",
   "mimetype": "text/x-python",
   "name": "python",
   "nbconvert_exporter": "python",
   "pygments_lexer": "ipython3",
   "version": "3.7.6-final"
  },
  "orig_nbformat": 2,
  "kernelspec": {
   "name": "python3",
   "display_name": "Python 3"
  }
 },
 "nbformat": 4,
 "nbformat_minor": 2
}