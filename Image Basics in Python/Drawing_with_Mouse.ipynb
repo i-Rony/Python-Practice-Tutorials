{
 "cells": [
  {
   "cell_type": "code",
   "execution_count": 2,
   "metadata": {},
   "outputs": [],
   "source": [
    "import cv2\n",
    "import numpy as np\n",
    "\n",
    "def draw_circle(event, x, y, flags, param):\n",
    "    if event == cv2.EVENT_LBUTTONDOWN:\n",
    "        cv2.circle(img, (x,y), 10, (75, 131, 78), -1)\n",
    "    elif event == cv2.EVENT_RBUTTONDOWN:\n",
    "        cv2.circle(img, (x,y), 10, (35, 69, 78), -1)\n",
    "\n",
    "cv2.namedWindow(winname='my_draw')\n",
    "\n",
    "cv2.setMouseCallback('my_draw', draw_circle)\n",
    "\n",
    "img=np.zeros((512,512,3), np.int8)\n",
    "\n",
    "while True:\n",
    "    cv2.imshow('my_draw', img)\n",
    "\n",
    "    if cv2.waitKey(5) & 0xFF == ord('q'):\n",
    "        break\n",
    "\n",
    "cv2.destroyAllWindows()"
   ]
  }
 ],
 "metadata": {
  "language_info": {
   "codemirror_mode": {
    "name": "ipython",
    "version": 3
   },
   "file_extension": ".py",
   "mimetype": "text/x-python",
   "name": "python",
   "nbconvert_exporter": "python",
   "pygments_lexer": "ipython3",
   "version": "3.7.6-final"
  },
  "orig_nbformat": 2,
  "kernelspec": {
   "name": "python3",
   "display_name": "Python 3"
  }
 },
 "nbformat": 4,
 "nbformat_minor": 2
}