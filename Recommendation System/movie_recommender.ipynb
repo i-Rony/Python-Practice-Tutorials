{
 "metadata": {
  "language_info": {
   "codemirror_mode": {
    "name": "ipython",
    "version": 3
   },
   "file_extension": ".py",
   "mimetype": "text/x-python",
   "name": "python",
   "nbconvert_exporter": "python",
   "pygments_lexer": "ipython3",
   "version": "3.7.6-final"
  },
  "orig_nbformat": 2,
  "kernelspec": {
   "name": "python3",
   "display_name": "Python 3"
  }
 },
 "nbformat": 4,
 "nbformat_minor": 2,
 "cells": [
  {
   "cell_type": "code",
   "execution_count": 1,
   "metadata": {},
   "outputs": [],
   "source": [
    "import pandas as pd\n",
    "import numpy as np\n",
    "from sklearn.feature_extraction.text import CountVectorizer\n",
    "from sklearn.metrics.pairwise import cosine_similarity"
   ]
  },
  {
   "cell_type": "code",
   "execution_count": 2,
   "metadata": {},
   "outputs": [],
   "source": [
    "# Helper Functions\n",
    "def get_title_from_index(index):\n",
    "\treturn df[df.index == index][\"title\"].values[0]\n",
    "\n",
    "def get_index_from_title(title):\n",
    "\treturn df[df.title == title][\"index\"].values[0]"
   ]
  },
  {
   "cell_type": "code",
   "execution_count": 3,
   "metadata": {},
   "outputs": [
    {
     "output_type": "execute_result",
     "data": {
      "text/plain": "   index     budget                                    genres  \\\n0      0  237000000  Action Adventure Fantasy Science Fiction   \n1      1  300000000                  Adventure Fantasy Action   \n2      2  245000000                    Action Adventure Crime   \n3      3  250000000               Action Crime Drama Thriller   \n4      4  260000000          Action Adventure Science Fiction   \n\n                                       homepage      id  \\\n0                   http://www.avatarmovie.com/   19995   \n1  http://disney.go.com/disneypictures/pirates/     285   \n2   http://www.sonypictures.com/movies/spectre/  206647   \n3            http://www.thedarkknightrises.com/   49026   \n4          http://movies.disney.com/john-carter   49529   \n\n                                            keywords original_language  \\\n0  culture clash future space war space colony so...                en   \n1  ocean drug abuse exotic island east india trad...                en   \n2         spy based on novel secret agent sequel mi6                en   \n3  dc comics crime fighter terrorist secret ident...                en   \n4  based on novel mars medallion space travel pri...                en   \n\n                             original_title  \\\n0                                    Avatar   \n1  Pirates of the Caribbean: At World's End   \n2                                   Spectre   \n3                     The Dark Knight Rises   \n4                               John Carter   \n\n                                            overview  popularity  ... runtime  \\\n0  In the 22nd century, a paraplegic Marine is di...  150.437577  ...   162.0   \n1  Captain Barbossa, long believed to be dead, ha...  139.082615  ...   169.0   \n2  A cryptic message from Bond’s past sends him o...  107.376788  ...   148.0   \n3  Following the death of District Attorney Harve...  112.312950  ...   165.0   \n4  John Carter is a war-weary, former military ca...   43.926995  ...   132.0   \n\n                                    spoken_languages    status  \\\n0  [{\"iso_639_1\": \"en\", \"name\": \"English\"}, {\"iso...  Released   \n1           [{\"iso_639_1\": \"en\", \"name\": \"English\"}]  Released   \n2  [{\"iso_639_1\": \"fr\", \"name\": \"Fran\\u00e7ais\"},...  Released   \n3           [{\"iso_639_1\": \"en\", \"name\": \"English\"}]  Released   \n4           [{\"iso_639_1\": \"en\", \"name\": \"English\"}]  Released   \n\n                                          tagline  \\\n0                     Enter the World of Pandora.   \n1  At the end of the world, the adventure begins.   \n2                           A Plan No One Escapes   \n3                                 The Legend Ends   \n4            Lost in our world, found in another.   \n\n                                      title vote_average vote_count  \\\n0                                    Avatar          7.2      11800   \n1  Pirates of the Caribbean: At World's End          6.9       4500   \n2                                   Spectre          6.3       4466   \n3                     The Dark Knight Rises          7.6       9106   \n4                               John Carter          6.1       2124   \n\n                                                cast  \\\n0  Sam Worthington Zoe Saldana Sigourney Weaver S...   \n1  Johnny Depp Orlando Bloom Keira Knightley Stel...   \n2  Daniel Craig Christoph Waltz L\\u00e9a Seydoux ...   \n3  Christian Bale Michael Caine Gary Oldman Anne ...   \n4  Taylor Kitsch Lynn Collins Samantha Morton Wil...   \n\n                                                crew           director  \n0  [{'name': 'Stephen E. Rivkin', 'gender': 0, 'd...      James Cameron  \n1  [{'name': 'Dariusz Wolski', 'gender': 2, 'depa...     Gore Verbinski  \n2  [{'name': 'Thomas Newman', 'gender': 2, 'depar...         Sam Mendes  \n3  [{'name': 'Hans Zimmer', 'gender': 2, 'departm...  Christopher Nolan  \n4  [{'name': 'Andrew Stanton', 'gender': 2, 'depa...     Andrew Stanton  \n\n[5 rows x 24 columns]",
      "text/html": "<div>\n<style scoped>\n    .dataframe tbody tr th:only-of-type {\n        vertical-align: middle;\n    }\n\n    .dataframe tbody tr th {\n        vertical-align: top;\n    }\n\n    .dataframe thead th {\n        text-align: right;\n    }\n</style>\n<table border=\"1\" class=\"dataframe\">\n  <thead>\n    <tr style=\"text-align: right;\">\n      <th></th>\n      <th>index</th>\n      <th>budget</th>\n      <th>genres</th>\n      <th>homepage</th>\n      <th>id</th>\n      <th>keywords</th>\n      <th>original_language</th>\n      <th>original_title</th>\n      <th>overview</th>\n      <th>popularity</th>\n      <th>...</th>\n      <th>runtime</th>\n      <th>spoken_languages</th>\n      <th>status</th>\n      <th>tagline</th>\n      <th>title</th>\n      <th>vote_average</th>\n      <th>vote_count</th>\n      <th>cast</th>\n      <th>crew</th>\n      <th>director</th>\n    </tr>\n  </thead>\n  <tbody>\n    <tr>\n      <th>0</th>\n      <td>0</td>\n      <td>237000000</td>\n      <td>Action Adventure Fantasy Science Fiction</td>\n      <td>http://www.avatarmovie.com/</td>\n      <td>19995</td>\n      <td>culture clash future space war space colony so...</td>\n      <td>en</td>\n      <td>Avatar</td>\n      <td>In the 22nd century, a paraplegic Marine is di...</td>\n      <td>150.437577</td>\n      <td>...</td>\n      <td>162.0</td>\n      <td>[{\"iso_639_1\": \"en\", \"name\": \"English\"}, {\"iso...</td>\n      <td>Released</td>\n      <td>Enter the World of Pandora.</td>\n      <td>Avatar</td>\n      <td>7.2</td>\n      <td>11800</td>\n      <td>Sam Worthington Zoe Saldana Sigourney Weaver S...</td>\n      <td>[{'name': 'Stephen E. Rivkin', 'gender': 0, 'd...</td>\n      <td>James Cameron</td>\n    </tr>\n    <tr>\n      <th>1</th>\n      <td>1</td>\n      <td>300000000</td>\n      <td>Adventure Fantasy Action</td>\n      <td>http://disney.go.com/disneypictures/pirates/</td>\n      <td>285</td>\n      <td>ocean drug abuse exotic island east india trad...</td>\n      <td>en</td>\n      <td>Pirates of the Caribbean: At World's End</td>\n      <td>Captain Barbossa, long believed to be dead, ha...</td>\n      <td>139.082615</td>\n      <td>...</td>\n      <td>169.0</td>\n      <td>[{\"iso_639_1\": \"en\", \"name\": \"English\"}]</td>\n      <td>Released</td>\n      <td>At the end of the world, the adventure begins.</td>\n      <td>Pirates of the Caribbean: At World's End</td>\n      <td>6.9</td>\n      <td>4500</td>\n      <td>Johnny Depp Orlando Bloom Keira Knightley Stel...</td>\n      <td>[{'name': 'Dariusz Wolski', 'gender': 2, 'depa...</td>\n      <td>Gore Verbinski</td>\n    </tr>\n    <tr>\n      <th>2</th>\n      <td>2</td>\n      <td>245000000</td>\n      <td>Action Adventure Crime</td>\n      <td>http://www.sonypictures.com/movies/spectre/</td>\n      <td>206647</td>\n      <td>spy based on novel secret agent sequel mi6</td>\n      <td>en</td>\n      <td>Spectre</td>\n      <td>A cryptic message from Bond’s past sends him o...</td>\n      <td>107.376788</td>\n      <td>...</td>\n      <td>148.0</td>\n      <td>[{\"iso_639_1\": \"fr\", \"name\": \"Fran\\u00e7ais\"},...</td>\n      <td>Released</td>\n      <td>A Plan No One Escapes</td>\n      <td>Spectre</td>\n      <td>6.3</td>\n      <td>4466</td>\n      <td>Daniel Craig Christoph Waltz L\\u00e9a Seydoux ...</td>\n      <td>[{'name': 'Thomas Newman', 'gender': 2, 'depar...</td>\n      <td>Sam Mendes</td>\n    </tr>\n    <tr>\n      <th>3</th>\n      <td>3</td>\n      <td>250000000</td>\n      <td>Action Crime Drama Thriller</td>\n      <td>http://www.thedarkknightrises.com/</td>\n      <td>49026</td>\n      <td>dc comics crime fighter terrorist secret ident...</td>\n      <td>en</td>\n      <td>The Dark Knight Rises</td>\n      <td>Following the death of District Attorney Harve...</td>\n      <td>112.312950</td>\n      <td>...</td>\n      <td>165.0</td>\n      <td>[{\"iso_639_1\": \"en\", \"name\": \"English\"}]</td>\n      <td>Released</td>\n      <td>The Legend Ends</td>\n      <td>The Dark Knight Rises</td>\n      <td>7.6</td>\n      <td>9106</td>\n      <td>Christian Bale Michael Caine Gary Oldman Anne ...</td>\n      <td>[{'name': 'Hans Zimmer', 'gender': 2, 'departm...</td>\n      <td>Christopher Nolan</td>\n    </tr>\n    <tr>\n      <th>4</th>\n      <td>4</td>\n      <td>260000000</td>\n      <td>Action Adventure Science Fiction</td>\n      <td>http://movies.disney.com/john-carter</td>\n      <td>49529</td>\n      <td>based on novel mars medallion space travel pri...</td>\n      <td>en</td>\n      <td>John Carter</td>\n      <td>John Carter is a war-weary, former military ca...</td>\n      <td>43.926995</td>\n      <td>...</td>\n      <td>132.0</td>\n      <td>[{\"iso_639_1\": \"en\", \"name\": \"English\"}]</td>\n      <td>Released</td>\n      <td>Lost in our world, found in another.</td>\n      <td>John Carter</td>\n      <td>6.1</td>\n      <td>2124</td>\n      <td>Taylor Kitsch Lynn Collins Samantha Morton Wil...</td>\n      <td>[{'name': 'Andrew Stanton', 'gender': 2, 'depa...</td>\n      <td>Andrew Stanton</td>\n    </tr>\n  </tbody>\n</table>\n<p>5 rows × 24 columns</p>\n</div>"
     },
     "metadata": {},
     "execution_count": 3
    }
   ],
   "source": [
    "# Reads from csv file\n",
    "df = pd.read_csv(\"movie_dataset.csv\")\n",
    "df.head()"
   ]
  },
  {
   "cell_type": "code",
   "execution_count": 4,
   "metadata": {},
   "outputs": [
    {
     "output_type": "execute_result",
     "data": {
      "text/plain": "0    culture clash future space war space colony so...\n1    ocean drug abuse exotic island east india trad...\n2    spy based on novel secret agent sequel mi6 Dan...\n3    dc comics crime fighter terrorist secret ident...\n4    based on novel mars medallion space travel pri...\nName: combined_features, dtype: object"
     },
     "metadata": {},
     "execution_count": 4
    }
   ],
   "source": [
    "# combines all selected features\n",
    "\n",
    "features = ['keywords','cast','genres','director']\n",
    "\n",
    "for feature in features:\n",
    "\tdf[feature] = df[feature].fillna('')\n",
    "\n",
    "def combine_features(row):\n",
    "\ttry:\n",
    "\t\treturn row['keywords'] +\" \"+row['cast']+\" \"+row[\"genres\"]+\" \"+row[\"director\"]\n",
    "\texcept:\n",
    "\t\tprint(\"Error: \", row\t)\n",
    "\n",
    "df[\"combined_features\"] = df.apply(combine_features,axis=1)\n",
    "\n",
    "df[\"combined_features\"].head()"
   ]
  },
  {
   "cell_type": "code",
   "execution_count": 5,
   "metadata": {},
   "outputs": [],
   "source": [
    "# Create count matrix from this new combined column\n",
    "\n",
    "cv = CountVectorizer()\n",
    "\n",
    "count_matrix = cv.fit_transform(df[\"combined_features\"])"
   ]
  },
  {
   "cell_type": "code",
   "execution_count": 6,
   "metadata": {},
   "outputs": [],
   "source": [
    "# Compute the Cosine Similarity based on the count_matrix\n",
    "\n",
    "cosine_sim = cosine_similarity(count_matrix) \n",
    "\n",
    "movie_user_likes = \"Avatar\""
   ]
  },
  {
   "cell_type": "code",
   "execution_count": 7,
   "metadata": {},
   "outputs": [],
   "source": [
    "# Get index of this movie from its title\n",
    "\n",
    "movie_index = get_index_from_title(movie_user_likes)\n",
    "\n",
    "similar_movies =  list(enumerate(cosine_sim[movie_index]))"
   ]
  },
  {
   "cell_type": "code",
   "execution_count": 8,
   "metadata": {},
   "outputs": [],
   "source": [
    "# Get a list of similar movies in descending order of similarity score\n",
    "\n",
    "sorted_similar_movies = sorted(similar_movies,key=lambda x:x[1],reverse=True)"
   ]
  },
  {
   "cell_type": "code",
   "execution_count": 9,
   "metadata": {
    "tags": []
   },
   "outputs": [
    {
     "output_type": "stream",
     "name": "stdout",
     "text": "Avatar\nGuardians of the Galaxy\nAliens\nStar Wars: Clone Wars: Volume 1\nStar Trek Into Darkness\nStar Trek Beyond\nAlien\nLockout\nJason X\nThe Helix... Loaded\nMoonraker\nPlanet of the Apes\nGalaxy Quest\nGravity\nAlien³\nJupiter Ascending\nThe Wolverine\nSilent Running\nZathura: A Space Adventure\nTrekkies\nCargo\nWing Commander\nStar Trek\nLost in Space\nBabylon A.D.\nThe Fifth Element\nOblivion\nTitan A.E.\nAVP: Alien vs. Predator\nThe Empire Strikes Back\nDragonball Evolution\nSuperman Returns\nDivergent\nJohn Carter\nThe Black Hole\nThe Ice Pirates\nMemoirs of an Invisible Man\nStarship Troopers\nThe Astronaut's Wife\nMachete Kills\nSoldier\nThe Abyss\nDamnation Alley\nMen in Black\nSpace Cowboys\nSpace Dogs\nThe Time Machine\nSheena\nCaptain America: Civil War\nStar Trek: Insurrection\nOz: The Great and Powerful\n"
    }
   ],
   "source": [
    "# SPrint titles of first 50 movies\n",
    "\n",
    "i = 0\n",
    "\n",
    "for element in sorted_similar_movies:\n",
    "\t\tprint(get_title_from_index(element[0]))\n",
    "\t\ti = i + 1\n",
    "\t\tif i > 50:\n",
    "\t\t\tbreak"
   ]
  },
  {
   "cell_type": "code",
   "execution_count": null,
   "metadata": {},
   "outputs": [],
   "source": []
  }
 ]
}